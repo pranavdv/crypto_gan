{
  "nbformat": 4,
  "nbformat_minor": 0,
  "metadata": {
    "colab": {
      "name": "symmetric_key_gan.ipynb",
      "provenance": [],
      "collapsed_sections": []
    },
    "kernelspec": {
      "name": "python3",
      "display_name": "Python 3"
    },
    "language_info": {
      "name": "python"
    }
  },
  "cells": [
    {
      "cell_type": "code",
      "execution_count": 136,
      "metadata": {
        "id": "sMO_KXeDvi64"
      },
      "outputs": [],
      "source": [
        "import numpy as np\n",
        "import matplotlib.pyplot as plt\n",
        "import tensorflow as tf\n",
        "from tensorflow.keras.layers import Dense, Conv2D, Input, Reshape\n",
        "from tensorflow.keras.models import Model\n",
        "from tensorflow.keras.optimizers import Adam\n",
        "\n",
        "key_size = 16\n",
        "plain_text_size = 16\n",
        "batch_size = 4096\n",
        "batches_per_epoch = 4\n",
        "eve_multiplier = 2\n",
        "display_step = 20\n",
        "seed = 42"
      ]
    },
    {
      "cell_type": "code",
      "source": [
        "def generator():\n",
        "  while True:\n",
        "    plain_texts = tf.random.uniform(shape = (batch_size, plain_text_size), minval = 0, maxval = 2, seed = seed, dtype = tf.dtypes.int32)\n",
        "    plain_texts = plain_texts * 2 - 1\n",
        "    plain_texts = tf.cast(plain_texts, tf.dtypes.float32)\n",
        "    keys = tf.random.uniform(shape = (batch_size, key_size), minval = 0, maxval = 2, seed = seed, dtype = tf.dtypes.int32)\n",
        "    keys = keys * 2 - 1\n",
        "    keys = tf.cast(keys, tf.dtypes.float32)\n",
        "    yield [plain_texts, keys]\n",
        "\n",
        "## EXAMPLE\n",
        "train_gen = generator()\n",
        "mb = next(train_gen)\n",
        "print(\"Plaintexts\")\n",
        "print(mb[0].shape)\n",
        "print(mb[0][0].shape)\n",
        "print(mb[0][0])\n",
        "print(\"Keys\")\n",
        "print(mb[1].shape)\n",
        "print(mb[1][0].shape)\n",
        "print(mb[1][0])\n",
        "print(\"combined\")\n",
        "temp = tf.concat((mb[0], mb[1]), axis = 1)\n",
        "print(temp.shape)\n",
        "print(temp[0].shape)\n",
        "print(temp[0])"
      ],
      "metadata": {
        "colab": {
          "base_uri": "https://localhost:8080/"
        },
        "id": "oW0-8KcKvqyq",
        "outputId": "1f7ec935-8c2c-4a51-ff1b-f8f8e074a031"
      },
      "execution_count": 141,
      "outputs": [
        {
          "output_type": "stream",
          "name": "stdout",
          "text": [
            "Plaintexts\n",
            "(4096, 16)\n",
            "(16,)\n",
            "tf.Tensor([-1.  1.  1.  1.  1.  1. -1.  1. -1.  1. -1. -1.  1. -1. -1. -1.], shape=(16,), dtype=float32)\n",
            "Keys\n",
            "(4096, 16)\n",
            "(16,)\n",
            "tf.Tensor([-1.  1. -1. -1. -1.  1. -1.  1.  1. -1. -1. -1. -1. -1.  1. -1.], shape=(16,), dtype=float32)\n",
            "combined\n",
            "(4096, 32)\n",
            "(32,)\n",
            "tf.Tensor(\n",
            "[-1.  1.  1.  1.  1.  1. -1.  1. -1.  1. -1. -1.  1. -1. -1. -1. -1.  1.\n",
            " -1. -1. -1.  1. -1.  1.  1. -1. -1. -1. -1. -1.  1. -1.], shape=(32,), dtype=float32)\n"
          ]
        }
      ]
    },
    {
      "cell_type": "code",
      "source": [
        "class crypto_gan():\n",
        "  def __init__(self):\n",
        "    self.alice = self.model(name = 'Alice')\n",
        "    self.bob = self.model(name = 'Bob')\n",
        "    self.ab_opt = Adam(learning_rate=8e-3)\n",
        "    self.ab_loss = []\n",
        "    \n",
        "    self.eve = self.model(key = False, name = 'Eve')\n",
        "    self.eve_opt = Adam(learning_rate=8e-3)\n",
        "    self.eve_loss = []\n",
        "\n",
        "  def model(self, name, key = True):\n",
        "    if key:\n",
        "      input_shape = (plain_text_size + key_size)\n",
        "    else :\n",
        "      input_shape = (plain_text_size, )\n",
        "    \n",
        "    input = Input(shape = (input_shape), name = 'input')\n",
        "    x = Dense(units = (plain_text_size + key_size), activation = None, name = 'dense')(input)\n",
        "    x = Reshape(target_shape = ( x.shape[1], 1, 1), name = 'reshape1')(x)\n",
        "    x = Conv2D(filters = 2, kernel_size = (4, 1), padding = 'same', activation = 'sigmoid', name = 'conv2d_1')(x)\n",
        "    x = Conv2D(filters = 4, kernel_size = (2, 1), activation = 'sigmoid', padding = 'valid', strides = 2, name = 'conv2d_2')(x)\n",
        "    x = Conv2D(filters = 4, kernel_size = (1, 1), activation = 'sigmoid', padding = 'valid', name = 'conv2d_3')(x)\n",
        "    x = Conv2D(filters = 1, kernel_size = (1, 1), activation = 'tanh', padding = 'valid', name = 'conv2d_4')(x)\n",
        "    out = Reshape(target_shape = (plain_text_size, ), name = 'reshape2')(x)\n",
        "\n",
        "    arch = Model(inputs = input, outputs = out, name = name)\n",
        "    return arch\n",
        "  \n",
        "  def train(self, epochs, data_gen):\n",
        "    current_step = 0\n",
        "    for epoch in range(epochs):\n",
        "      for batch in range(batches_per_epoch):\n",
        "        a_plain_texts, keys = next(data_gen)\n",
        "        \n",
        "        with tf.GradientTape(persistent = True) as tape:\n",
        "          \n",
        "          # generate ciphertexts by A\n",
        "          combined = tf.concat((a_plain_texts, keys), axis = 1)\n",
        "          ciphertexts = self.alice(combined)\n",
        "          \n",
        "          # generate plaintext by B\n",
        "          combined = tf.concat((ciphertexts, keys), axis = 1)\n",
        "          b_plain_texts = self.bob(combined)\n",
        "          \n",
        "          # generate plaintext by E\n",
        "          c_plain_texts = self.eve(ciphertexts)\n",
        "\n",
        "          # calculate E loss over minibatch\n",
        "          eve_loss = tf.reduce_sum(tf.abs((c_plain_texts + 1.0)/ 2.0 - (a_plain_texts + 1.0)/ 2.0), axis = 1)\n",
        "          eve_loss_total  = tf.reduce_mean(eve_loss)\n",
        "          # print(eve_loss)\n",
        "          # print(eve_loss_total)\n",
        "          \n",
        "          # calculate AB loss over minibatch\n",
        "          ab_loss1 = tf.reduce_sum(tf.abs((a_plain_texts + 1.0)/2.0 - (b_plain_texts + 1.0)/2.0), axis = 1)\n",
        "          ab_loss2 = ((plain_text_size//2 - eve_loss)**2)/((plain_text_size//2)**2)\n",
        "          ab_loss = ab_loss1 + ab_loss2\n",
        "          ab_loss_total = tf.reduce_mean(ab_loss)\n",
        "          # print(ab_loss1)\n",
        "          # print(ab_loss2)\n",
        "          # print(ab_loss)\n",
        "          # print(ab_loss_total)\n",
        "\n",
        "        for _ in range(eve_multiplier):\n",
        "          # calcualte gradients\n",
        "          eve_grads = tape.gradient(eve_loss_total, self.eve.trainable_variables)\n",
        "          # apply gradients\n",
        "          self.eve_opt.apply_gradients(zip(eve_grads, self.eve.trainable_variables))\n",
        "        \n",
        "        # calculate gradients\n",
        "        ab_variables = self.alice.trainable_variables + self.bob.trainable_variables\n",
        "        ab_gradients = tape.gradient(ab_loss_total, ab_variables)\n",
        "        # apply gradients\n",
        "        self.ab_opt.apply_gradients(zip(ab_gradients, ab_variables))\n",
        "      \n",
        "      # append losses\n",
        "      self.eve_loss.append(eve_loss_total)\n",
        "      self.ab_loss.append(ab_loss_total)\n",
        "      current_step += 1\n",
        "      if current_step % display_step == 0:\n",
        "        print(f\"Step {current_step} \\nAB Loss : {ab_loss_total}\\nEve loss : {eve_loss_total}\")\n",
        "\n",
        "      # delete gradient tape\n",
        "      del tape\n",
        "\n",
        "model = crypto_gan()\n",
        "model.alice.summary()\n",
        "model.bob.summary()\n",
        "model.eve.summary()"
      ],
      "metadata": {
        "id": "-Pc0_EtoxC2b",
        "colab": {
          "base_uri": "https://localhost:8080/"
        },
        "outputId": "c600f79f-ecfd-4c16-ae09-0795bca30e9b"
      },
      "execution_count": 142,
      "outputs": [
        {
          "output_type": "stream",
          "name": "stdout",
          "text": [
            "Model: \"Alice\"\n",
            "_________________________________________________________________\n",
            " Layer (type)                Output Shape              Param #   \n",
            "=================================================================\n",
            " input (InputLayer)          [(None, 32)]              0         \n",
            "                                                                 \n",
            " dense (Dense)               (None, 32)                1056      \n",
            "                                                                 \n",
            " reshape1 (Reshape)          (None, 32, 1, 1)          0         \n",
            "                                                                 \n",
            " conv2d_1 (Conv2D)           (None, 32, 1, 2)          10        \n",
            "                                                                 \n",
            " conv2d_2 (Conv2D)           (None, 16, 1, 4)          20        \n",
            "                                                                 \n",
            " conv2d_3 (Conv2D)           (None, 16, 1, 4)          20        \n",
            "                                                                 \n",
            " conv2d_4 (Conv2D)           (None, 16, 1, 1)          5         \n",
            "                                                                 \n",
            " reshape2 (Reshape)          (None, 16)                0         \n",
            "                                                                 \n",
            "=================================================================\n",
            "Total params: 1,111\n",
            "Trainable params: 1,111\n",
            "Non-trainable params: 0\n",
            "_________________________________________________________________\n",
            "Model: \"Bob\"\n",
            "_________________________________________________________________\n",
            " Layer (type)                Output Shape              Param #   \n",
            "=================================================================\n",
            " input (InputLayer)          [(None, 32)]              0         \n",
            "                                                                 \n",
            " dense (Dense)               (None, 32)                1056      \n",
            "                                                                 \n",
            " reshape1 (Reshape)          (None, 32, 1, 1)          0         \n",
            "                                                                 \n",
            " conv2d_1 (Conv2D)           (None, 32, 1, 2)          10        \n",
            "                                                                 \n",
            " conv2d_2 (Conv2D)           (None, 16, 1, 4)          20        \n",
            "                                                                 \n",
            " conv2d_3 (Conv2D)           (None, 16, 1, 4)          20        \n",
            "                                                                 \n",
            " conv2d_4 (Conv2D)           (None, 16, 1, 1)          5         \n",
            "                                                                 \n",
            " reshape2 (Reshape)          (None, 16)                0         \n",
            "                                                                 \n",
            "=================================================================\n",
            "Total params: 1,111\n",
            "Trainable params: 1,111\n",
            "Non-trainable params: 0\n",
            "_________________________________________________________________\n",
            "Model: \"Eve\"\n",
            "_________________________________________________________________\n",
            " Layer (type)                Output Shape              Param #   \n",
            "=================================================================\n",
            " input (InputLayer)          [(None, 16)]              0         \n",
            "                                                                 \n",
            " dense (Dense)               (None, 32)                544       \n",
            "                                                                 \n",
            " reshape1 (Reshape)          (None, 32, 1, 1)          0         \n",
            "                                                                 \n",
            " conv2d_1 (Conv2D)           (None, 32, 1, 2)          10        \n",
            "                                                                 \n",
            " conv2d_2 (Conv2D)           (None, 16, 1, 4)          20        \n",
            "                                                                 \n",
            " conv2d_3 (Conv2D)           (None, 16, 1, 4)          20        \n",
            "                                                                 \n",
            " conv2d_4 (Conv2D)           (None, 16, 1, 1)          5         \n",
            "                                                                 \n",
            " reshape2 (Reshape)          (None, 16)                0         \n",
            "                                                                 \n",
            "=================================================================\n",
            "Total params: 599\n",
            "Trainable params: 599\n",
            "Non-trainable params: 0\n",
            "_________________________________________________________________\n"
          ]
        }
      ]
    },
    {
      "cell_type": "code",
      "source": [
        "model.train(epochs = 200, data_gen = train_gen)"
      ],
      "metadata": {
        "colab": {
          "base_uri": "https://localhost:8080/"
        },
        "id": "1rUn28FaOIdH",
        "outputId": "e999e2d0-f3e2-45af-f533-c42ec5b820e2"
      },
      "execution_count": 145,
      "outputs": [
        {
          "output_type": "stream",
          "name": "stdout",
          "text": [
            "Step 20 \n",
            "AB Loss : 0.21461471915245056\n",
            "Eve loss : 4.92531681060791\n",
            "Step 40 \n",
            "AB Loss : 0.13832823932170868\n",
            "Eve loss : 5.932687282562256\n",
            "Step 60 \n",
            "AB Loss : 0.12392456084489822\n",
            "Eve loss : 6.14817476272583\n",
            "Step 80 \n",
            "AB Loss : 0.11067245900630951\n",
            "Eve loss : 6.340568542480469\n",
            "Step 100 \n",
            "AB Loss : 0.10333970934152603\n",
            "Eve loss : 6.437292575836182\n"
          ]
        }
      ]
    },
    {
      "cell_type": "code",
      "source": [
        "plt.plot(range(0, 200), model.eve_loss)\n",
        "plt.plot(range(0, 200), model.ab_loss)\n",
        "plt.show()"
      ],
      "metadata": {
        "colab": {
          "base_uri": "https://localhost:8080/",
          "height": 265
        },
        "id": "gFPp5GV9ocJ8",
        "outputId": "39ebb2df-6d85-4c02-e90d-1d1b0782dc17"
      },
      "execution_count": 146,
      "outputs": [
        {
          "output_type": "display_data",
          "data": {
            "image/png": "[encoded data removed]",
            "text/plain": [
              "<Figure size 432x288 with 1 Axes>"
            ]
          },
          "metadata": {
            "needs_background": "light"
          }
        }
      ]
    },
    {
      "cell_type": "code",
      "source": [
        ""
      ],
      "metadata": {
        "id": "IQSarXS3tUln"
      },
      "execution_count": null,
      "outputs": []
    }
  ]
}